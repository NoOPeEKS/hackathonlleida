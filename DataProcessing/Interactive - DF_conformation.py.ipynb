{
 "cells": [
  {
   "cell_type": "code",
   "execution_count": 1,
   "metadata": {},
   "outputs": [],
   "source": [
    "from fastapi import FastAPI\n",
    "from fastapi import Request\n",
    "import requests\n",
    "import pandas as pd\n",
    "\n",
    "app = FastAPI()\n",
    "@app.get(\"/vision\")\n",
    "def read_vision(img_url):\n",
    "    url = 'https://api-us.restb.ai/vision/v2/multipredict'\n",
    "    payload = {\n",
    "        # Add your client key\n",
    "        'client_key': 'b1df17d9f440b1a56f07936fb84c56039d4374c86c91618a938e465e8194876a',\n",
    "        'model_id': ['re_condition_r1r6_global', 're_features_v5'], \n",
    "        # Add the image URL you want to process\n",
    "        'image_url': img_url\n",
    "    }\n",
    "\n",
    "    # Make the API request\n",
    "    response = requests.get(url, params=payload)\n",
    "\n",
    "    # The response is formatted in JSON\n",
    "    json_response = response.json()\n",
    "    return json_response"
   ]
  },
  {
   "cell_type": "code",
   "execution_count": 2,
   "metadata": {},
   "outputs": [],
   "source": [
    "df = pd.read_csv('urls.csv', index_col=0, sep = ';').reset_index()"
   ]
  },
  {
   "cell_type": "code",
   "execution_count": 3,
   "metadata": {},
   "outputs": [
    {
     "ename": "JSONDecodeError",
     "evalue": "[Errno Expecting value] <html>\r\n<head><title>414 Request-URI Too Large</title></head>\r\n<body>\r\n<center><h1>414 Request-URI Too Large</h1></center>\r\n</body>\r\n</html>\r\n: 0",
     "output_type": "error",
     "traceback": [
      "\u001b[1;31m---------------------------------------------------------------------------\u001b[0m",
      "\u001b[1;31mJSONDecodeError\u001b[0m                           Traceback (most recent call last)",
      "File \u001b[1;32mc:\\Users\\Biel GG\\anaconda3\\lib\\site-packages\\requests\\models.py:910\u001b[0m, in \u001b[0;36mResponse.json\u001b[1;34m(self, **kwargs)\u001b[0m\n\u001b[0;32m    <a href='file:///c%3A/Users/Biel%20GG/anaconda3/lib/site-packages/requests/models.py?line=908'>909</a>\u001b[0m \u001b[39mtry\u001b[39;00m:\n\u001b[1;32m--> <a href='file:///c%3A/Users/Biel%20GG/anaconda3/lib/site-packages/requests/models.py?line=909'>910</a>\u001b[0m     \u001b[39mreturn\u001b[39;00m complexjson\u001b[39m.\u001b[39;49mloads(\u001b[39mself\u001b[39;49m\u001b[39m.\u001b[39;49mtext, \u001b[39m*\u001b[39;49m\u001b[39m*\u001b[39;49mkwargs)\n\u001b[0;32m    <a href='file:///c%3A/Users/Biel%20GG/anaconda3/lib/site-packages/requests/models.py?line=910'>911</a>\u001b[0m \u001b[39mexcept\u001b[39;00m JSONDecodeError \u001b[39mas\u001b[39;00m e:\n\u001b[0;32m    <a href='file:///c%3A/Users/Biel%20GG/anaconda3/lib/site-packages/requests/models.py?line=911'>912</a>\u001b[0m     \u001b[39m# Catch JSON-related errors and raise as requests.JSONDecodeError\u001b[39;00m\n\u001b[0;32m    <a href='file:///c%3A/Users/Biel%20GG/anaconda3/lib/site-packages/requests/models.py?line=912'>913</a>\u001b[0m     \u001b[39m# This aliases json.JSONDecodeError and simplejson.JSONDecodeError\u001b[39;00m\n",
      "File \u001b[1;32mc:\\Users\\Biel GG\\anaconda3\\lib\\json\\__init__.py:357\u001b[0m, in \u001b[0;36mloads\u001b[1;34m(s, cls, object_hook, parse_float, parse_int, parse_constant, object_pairs_hook, **kw)\u001b[0m\n\u001b[0;32m    <a href='file:///c%3A/Users/Biel%20GG/anaconda3/lib/json/__init__.py?line=353'>354</a>\u001b[0m \u001b[39mif\u001b[39;00m (\u001b[39mcls\u001b[39m \u001b[39mis\u001b[39;00m \u001b[39mNone\u001b[39;00m \u001b[39mand\u001b[39;00m object_hook \u001b[39mis\u001b[39;00m \u001b[39mNone\u001b[39;00m \u001b[39mand\u001b[39;00m\n\u001b[0;32m    <a href='file:///c%3A/Users/Biel%20GG/anaconda3/lib/json/__init__.py?line=354'>355</a>\u001b[0m         parse_int \u001b[39mis\u001b[39;00m \u001b[39mNone\u001b[39;00m \u001b[39mand\u001b[39;00m parse_float \u001b[39mis\u001b[39;00m \u001b[39mNone\u001b[39;00m \u001b[39mand\u001b[39;00m\n\u001b[0;32m    <a href='file:///c%3A/Users/Biel%20GG/anaconda3/lib/json/__init__.py?line=355'>356</a>\u001b[0m         parse_constant \u001b[39mis\u001b[39;00m \u001b[39mNone\u001b[39;00m \u001b[39mand\u001b[39;00m object_pairs_hook \u001b[39mis\u001b[39;00m \u001b[39mNone\u001b[39;00m \u001b[39mand\u001b[39;00m \u001b[39mnot\u001b[39;00m kw):\n\u001b[1;32m--> <a href='file:///c%3A/Users/Biel%20GG/anaconda3/lib/json/__init__.py?line=356'>357</a>\u001b[0m     \u001b[39mreturn\u001b[39;00m _default_decoder\u001b[39m.\u001b[39;49mdecode(s)\n\u001b[0;32m    <a href='file:///c%3A/Users/Biel%20GG/anaconda3/lib/json/__init__.py?line=357'>358</a>\u001b[0m \u001b[39mif\u001b[39;00m \u001b[39mcls\u001b[39m \u001b[39mis\u001b[39;00m \u001b[39mNone\u001b[39;00m:\n",
      "File \u001b[1;32mc:\\Users\\Biel GG\\anaconda3\\lib\\json\\decoder.py:337\u001b[0m, in \u001b[0;36mJSONDecoder.decode\u001b[1;34m(self, s, _w)\u001b[0m\n\u001b[0;32m    <a href='file:///c%3A/Users/Biel%20GG/anaconda3/lib/json/decoder.py?line=332'>333</a>\u001b[0m \u001b[39m\"\"\"Return the Python representation of ``s`` (a ``str`` instance\u001b[39;00m\n\u001b[0;32m    <a href='file:///c%3A/Users/Biel%20GG/anaconda3/lib/json/decoder.py?line=333'>334</a>\u001b[0m \u001b[39mcontaining a JSON document).\u001b[39;00m\n\u001b[0;32m    <a href='file:///c%3A/Users/Biel%20GG/anaconda3/lib/json/decoder.py?line=334'>335</a>\u001b[0m \n\u001b[0;32m    <a href='file:///c%3A/Users/Biel%20GG/anaconda3/lib/json/decoder.py?line=335'>336</a>\u001b[0m \u001b[39m\"\"\"\u001b[39;00m\n\u001b[1;32m--> <a href='file:///c%3A/Users/Biel%20GG/anaconda3/lib/json/decoder.py?line=336'>337</a>\u001b[0m obj, end \u001b[39m=\u001b[39m \u001b[39mself\u001b[39;49m\u001b[39m.\u001b[39;49mraw_decode(s, idx\u001b[39m=\u001b[39;49m_w(s, \u001b[39m0\u001b[39;49m)\u001b[39m.\u001b[39;49mend())\n\u001b[0;32m    <a href='file:///c%3A/Users/Biel%20GG/anaconda3/lib/json/decoder.py?line=337'>338</a>\u001b[0m end \u001b[39m=\u001b[39m _w(s, end)\u001b[39m.\u001b[39mend()\n",
      "File \u001b[1;32mc:\\Users\\Biel GG\\anaconda3\\lib\\json\\decoder.py:355\u001b[0m, in \u001b[0;36mJSONDecoder.raw_decode\u001b[1;34m(self, s, idx)\u001b[0m\n\u001b[0;32m    <a href='file:///c%3A/Users/Biel%20GG/anaconda3/lib/json/decoder.py?line=353'>354</a>\u001b[0m \u001b[39mexcept\u001b[39;00m \u001b[39mStopIteration\u001b[39;00m \u001b[39mas\u001b[39;00m err:\n\u001b[1;32m--> <a href='file:///c%3A/Users/Biel%20GG/anaconda3/lib/json/decoder.py?line=354'>355</a>\u001b[0m     \u001b[39mraise\u001b[39;00m JSONDecodeError(\u001b[39m\"\u001b[39m\u001b[39mExpecting value\u001b[39m\u001b[39m\"\u001b[39m, s, err\u001b[39m.\u001b[39mvalue) \u001b[39mfrom\u001b[39;00m \u001b[39mNone\u001b[39m\n\u001b[0;32m    <a href='file:///c%3A/Users/Biel%20GG/anaconda3/lib/json/decoder.py?line=355'>356</a>\u001b[0m \u001b[39mreturn\u001b[39;00m obj, end\n",
      "\u001b[1;31mJSONDecodeError\u001b[0m: Expecting value: line 1 column 1 (char 0)",
      "\nDuring handling of the above exception, another exception occurred:\n",
      "\u001b[1;31mJSONDecodeError\u001b[0m                           Traceback (most recent call last)",
      "Input \u001b[1;32mIn [3]\u001b[0m, in \u001b[0;36m<cell line: 2>\u001b[1;34m()\u001b[0m\n\u001b[0;32m      1\u001b[0m \u001b[39m# %%\u001b[39;00m\n\u001b[1;32m----> 2\u001b[0m description_df \u001b[39m=\u001b[39m df\u001b[39m.\u001b[39;49msample(n\u001b[39m=\u001b[39;49m\u001b[39m3600\u001b[39;49m, random_state\u001b[39m=\u001b[39;49m\u001b[39m420\u001b[39;49m)\u001b[39m.\u001b[39;49mapply(read_vision)\n",
      "File \u001b[1;32mc:\\Users\\Biel GG\\anaconda3\\lib\\site-packages\\pandas\\core\\frame.py:8839\u001b[0m, in \u001b[0;36mDataFrame.apply\u001b[1;34m(self, func, axis, raw, result_type, args, **kwargs)\u001b[0m\n\u001b[0;32m   <a href='file:///c%3A/Users/Biel%20GG/anaconda3/lib/site-packages/pandas/core/frame.py?line=8827'>8828</a>\u001b[0m \u001b[39mfrom\u001b[39;00m \u001b[39mpandas\u001b[39;00m\u001b[39m.\u001b[39;00m\u001b[39mcore\u001b[39;00m\u001b[39m.\u001b[39;00m\u001b[39mapply\u001b[39;00m \u001b[39mimport\u001b[39;00m frame_apply\n\u001b[0;32m   <a href='file:///c%3A/Users/Biel%20GG/anaconda3/lib/site-packages/pandas/core/frame.py?line=8829'>8830</a>\u001b[0m op \u001b[39m=\u001b[39m frame_apply(\n\u001b[0;32m   <a href='file:///c%3A/Users/Biel%20GG/anaconda3/lib/site-packages/pandas/core/frame.py?line=8830'>8831</a>\u001b[0m     \u001b[39mself\u001b[39m,\n\u001b[0;32m   <a href='file:///c%3A/Users/Biel%20GG/anaconda3/lib/site-packages/pandas/core/frame.py?line=8831'>8832</a>\u001b[0m     func\u001b[39m=\u001b[39mfunc,\n\u001b[1;32m   (...)\u001b[0m\n\u001b[0;32m   <a href='file:///c%3A/Users/Biel%20GG/anaconda3/lib/site-packages/pandas/core/frame.py?line=8836'>8837</a>\u001b[0m     kwargs\u001b[39m=\u001b[39mkwargs,\n\u001b[0;32m   <a href='file:///c%3A/Users/Biel%20GG/anaconda3/lib/site-packages/pandas/core/frame.py?line=8837'>8838</a>\u001b[0m )\n\u001b[1;32m-> <a href='file:///c%3A/Users/Biel%20GG/anaconda3/lib/site-packages/pandas/core/frame.py?line=8838'>8839</a>\u001b[0m \u001b[39mreturn\u001b[39;00m op\u001b[39m.\u001b[39;49mapply()\u001b[39m.\u001b[39m__finalize__(\u001b[39mself\u001b[39m, method\u001b[39m=\u001b[39m\u001b[39m\"\u001b[39m\u001b[39mapply\u001b[39m\u001b[39m\"\u001b[39m)\n",
      "File \u001b[1;32mc:\\Users\\Biel GG\\anaconda3\\lib\\site-packages\\pandas\\core\\apply.py:727\u001b[0m, in \u001b[0;36mFrameApply.apply\u001b[1;34m(self)\u001b[0m\n\u001b[0;32m    <a href='file:///c%3A/Users/Biel%20GG/anaconda3/lib/site-packages/pandas/core/apply.py?line=723'>724</a>\u001b[0m \u001b[39melif\u001b[39;00m \u001b[39mself\u001b[39m\u001b[39m.\u001b[39mraw:\n\u001b[0;32m    <a href='file:///c%3A/Users/Biel%20GG/anaconda3/lib/site-packages/pandas/core/apply.py?line=724'>725</a>\u001b[0m     \u001b[39mreturn\u001b[39;00m \u001b[39mself\u001b[39m\u001b[39m.\u001b[39mapply_raw()\n\u001b[1;32m--> <a href='file:///c%3A/Users/Biel%20GG/anaconda3/lib/site-packages/pandas/core/apply.py?line=726'>727</a>\u001b[0m \u001b[39mreturn\u001b[39;00m \u001b[39mself\u001b[39;49m\u001b[39m.\u001b[39;49mapply_standard()\n",
      "File \u001b[1;32mc:\\Users\\Biel GG\\anaconda3\\lib\\site-packages\\pandas\\core\\apply.py:851\u001b[0m, in \u001b[0;36mFrameApply.apply_standard\u001b[1;34m(self)\u001b[0m\n\u001b[0;32m    <a href='file:///c%3A/Users/Biel%20GG/anaconda3/lib/site-packages/pandas/core/apply.py?line=849'>850</a>\u001b[0m \u001b[39mdef\u001b[39;00m \u001b[39mapply_standard\u001b[39m(\u001b[39mself\u001b[39m):\n\u001b[1;32m--> <a href='file:///c%3A/Users/Biel%20GG/anaconda3/lib/site-packages/pandas/core/apply.py?line=850'>851</a>\u001b[0m     results, res_index \u001b[39m=\u001b[39m \u001b[39mself\u001b[39;49m\u001b[39m.\u001b[39;49mapply_series_generator()\n\u001b[0;32m    <a href='file:///c%3A/Users/Biel%20GG/anaconda3/lib/site-packages/pandas/core/apply.py?line=852'>853</a>\u001b[0m     \u001b[39m# wrap results\u001b[39;00m\n\u001b[0;32m    <a href='file:///c%3A/Users/Biel%20GG/anaconda3/lib/site-packages/pandas/core/apply.py?line=853'>854</a>\u001b[0m     \u001b[39mreturn\u001b[39;00m \u001b[39mself\u001b[39m\u001b[39m.\u001b[39mwrap_results(results, res_index)\n",
      "File \u001b[1;32mc:\\Users\\Biel GG\\anaconda3\\lib\\site-packages\\pandas\\core\\apply.py:867\u001b[0m, in \u001b[0;36mFrameApply.apply_series_generator\u001b[1;34m(self)\u001b[0m\n\u001b[0;32m    <a href='file:///c%3A/Users/Biel%20GG/anaconda3/lib/site-packages/pandas/core/apply.py?line=863'>864</a>\u001b[0m \u001b[39mwith\u001b[39;00m option_context(\u001b[39m\"\u001b[39m\u001b[39mmode.chained_assignment\u001b[39m\u001b[39m\"\u001b[39m, \u001b[39mNone\u001b[39;00m):\n\u001b[0;32m    <a href='file:///c%3A/Users/Biel%20GG/anaconda3/lib/site-packages/pandas/core/apply.py?line=864'>865</a>\u001b[0m     \u001b[39mfor\u001b[39;00m i, v \u001b[39min\u001b[39;00m \u001b[39menumerate\u001b[39m(series_gen):\n\u001b[0;32m    <a href='file:///c%3A/Users/Biel%20GG/anaconda3/lib/site-packages/pandas/core/apply.py?line=865'>866</a>\u001b[0m         \u001b[39m# ignore SettingWithCopy here in case the user mutates\u001b[39;00m\n\u001b[1;32m--> <a href='file:///c%3A/Users/Biel%20GG/anaconda3/lib/site-packages/pandas/core/apply.py?line=866'>867</a>\u001b[0m         results[i] \u001b[39m=\u001b[39m \u001b[39mself\u001b[39;49m\u001b[39m.\u001b[39;49mf(v)\n\u001b[0;32m    <a href='file:///c%3A/Users/Biel%20GG/anaconda3/lib/site-packages/pandas/core/apply.py?line=867'>868</a>\u001b[0m         \u001b[39mif\u001b[39;00m \u001b[39misinstance\u001b[39m(results[i], ABCSeries):\n\u001b[0;32m    <a href='file:///c%3A/Users/Biel%20GG/anaconda3/lib/site-packages/pandas/core/apply.py?line=868'>869</a>\u001b[0m             \u001b[39m# If we have a view on v, we need to make a copy because\u001b[39;00m\n\u001b[0;32m    <a href='file:///c%3A/Users/Biel%20GG/anaconda3/lib/site-packages/pandas/core/apply.py?line=869'>870</a>\u001b[0m             \u001b[39m#  series_generator will swap out the underlying data\u001b[39;00m\n\u001b[0;32m    <a href='file:///c%3A/Users/Biel%20GG/anaconda3/lib/site-packages/pandas/core/apply.py?line=870'>871</a>\u001b[0m             results[i] \u001b[39m=\u001b[39m results[i]\u001b[39m.\u001b[39mcopy(deep\u001b[39m=\u001b[39m\u001b[39mFalse\u001b[39;00m)\n",
      "\u001b[1;32mc:\\Users\\Biel GG\\Documents\\Hackaton\\DF_conformation.py\u001b[0m in \u001b[0;36mread_vision\u001b[1;34m(img_url)\u001b[0m\n\u001b[0;32m     <a href='file:///c%3A/Users/Biel%20GG/Documents/Hackaton/DF_conformation.py?line=44'>45</a>\u001b[0m response \u001b[39m=\u001b[39m requests\u001b[39m.\u001b[39mget(url, params\u001b[39m=\u001b[39mpayload)\n\u001b[0;32m     <a href='file:///c%3A/Users/Biel%20GG/Documents/Hackaton/DF_conformation.py?line=46'>47</a>\u001b[0m \u001b[39m# The response is formatted in JSON\u001b[39;00m\n\u001b[1;32m---> <a href='file:///c%3A/Users/Biel%20GG/Documents/Hackaton/DF_conformation.py?line=47'>48</a>\u001b[0m json_response \u001b[39m=\u001b[39m response\u001b[39m.\u001b[39;49mjson()\n\u001b[0;32m     <a href='file:///c%3A/Users/Biel%20GG/Documents/Hackaton/DF_conformation.py?line=48'>49</a>\u001b[0m \u001b[39mreturn\u001b[39;00m json_response\n",
      "File \u001b[1;32mc:\\Users\\Biel GG\\anaconda3\\lib\\site-packages\\requests\\models.py:917\u001b[0m, in \u001b[0;36mResponse.json\u001b[1;34m(self, **kwargs)\u001b[0m\n\u001b[0;32m    <a href='file:///c%3A/Users/Biel%20GG/anaconda3/lib/site-packages/requests/models.py?line=914'>915</a>\u001b[0m     \u001b[39mraise\u001b[39;00m RequestsJSONDecodeError(e\u001b[39m.\u001b[39mmessage)\n\u001b[0;32m    <a href='file:///c%3A/Users/Biel%20GG/anaconda3/lib/site-packages/requests/models.py?line=915'>916</a>\u001b[0m \u001b[39melse\u001b[39;00m:\n\u001b[1;32m--> <a href='file:///c%3A/Users/Biel%20GG/anaconda3/lib/site-packages/requests/models.py?line=916'>917</a>\u001b[0m     \u001b[39mraise\u001b[39;00m RequestsJSONDecodeError(e\u001b[39m.\u001b[39mmsg, e\u001b[39m.\u001b[39mdoc, e\u001b[39m.\u001b[39mpos)\n",
      "\u001b[1;31mJSONDecodeError\u001b[0m: [Errno Expecting value] <html>\r\n<head><title>414 Request-URI Too Large</title></head>\r\n<body>\r\n<center><h1>414 Request-URI Too Large</h1></center>\r\n</body>\r\n</html>\r\n: 0"
     ]
    }
   ],
   "source": [
    "description_df = df.sample(n=3600, random_state=420).apply(read_vision)"
   ]
  },
  {
   "cell_type": "code",
   "execution_count": 4,
   "metadata": {},
   "outputs": [],
   "source": [
    "description_df = df.sample(n=3600, random_state=420)"
   ]
  },
  {
   "cell_type": "code",
   "execution_count": 5,
   "metadata": {},
   "outputs": [
    {
     "data": {
      "text/html": [
       "<div>\n",
       "<style scoped>\n",
       "    .dataframe tbody tr th:only-of-type {\n",
       "        vertical-align: middle;\n",
       "    }\n",
       "\n",
       "    .dataframe tbody tr th {\n",
       "        vertical-align: top;\n",
       "    }\n",
       "\n",
       "    .dataframe thead th {\n",
       "        text-align: right;\n",
       "    }\n",
       "</style>\n",
       "<table border=\"1\" class=\"dataframe\">\n",
       "  <thead>\n",
       "    <tr style=\"text-align: right;\">\n",
       "      <th></th>\n",
       "      <th>Url</th>\n",
       "    </tr>\n",
       "  </thead>\n",
       "  <tbody>\n",
       "    <tr>\n",
       "      <th>751166</th>\n",
       "      <td>https://fotos1.imghs.net/nrd//3426/96725101087...</td>\n",
       "    </tr>\n",
       "    <tr>\n",
       "      <th>288052</th>\n",
       "      <td>https://fotos2.imghs.net/nrd/1085/584/1085_AG3...</td>\n",
       "    </tr>\n",
       "    <tr>\n",
       "      <th>3658</th>\n",
       "      <td>https://fotos4.imghs.net/nrd//1018/159/1018_18...</td>\n",
       "    </tr>\n",
       "    <tr>\n",
       "      <th>286907</th>\n",
       "      <td>https://fotos5.imghs.net/nrd//501624/758474540...</td>\n",
       "    </tr>\n",
       "    <tr>\n",
       "      <th>275153</th>\n",
       "      <td>https://fotos2.imghs.net/nrd/1013/916/1013_inm...</td>\n",
       "    </tr>\n",
       "    <tr>\n",
       "      <th>...</th>\n",
       "      <td>...</td>\n",
       "    </tr>\n",
       "    <tr>\n",
       "      <th>101122</th>\n",
       "      <td>https://fotos1.imghs.net/nrd//520978/920024528...</td>\n",
       "    </tr>\n",
       "    <tr>\n",
       "      <th>594036</th>\n",
       "      <td>https://fotos4.imghs.net/nrd//1005/365/1005_10...</td>\n",
       "    </tr>\n",
       "    <tr>\n",
       "      <th>341233</th>\n",
       "      <td>https://fotos4.imghs.net/nrd//1005/007/1005_25...</td>\n",
       "    </tr>\n",
       "    <tr>\n",
       "      <th>363026</th>\n",
       "      <td>https://fotos3.imghs.net/nrd/1094/703/1094_NG1...</td>\n",
       "    </tr>\n",
       "    <tr>\n",
       "      <th>187695</th>\n",
       "      <td>https://fotos4.imghs.net/nrd/1036/377/1036_[SA...</td>\n",
       "    </tr>\n",
       "  </tbody>\n",
       "</table>\n",
       "<p>3600 rows × 1 columns</p>\n",
       "</div>"
      ],
      "text/plain": [
       "                                                      Url\n",
       "751166  https://fotos1.imghs.net/nrd//3426/96725101087...\n",
       "288052  https://fotos2.imghs.net/nrd/1085/584/1085_AG3...\n",
       "3658    https://fotos4.imghs.net/nrd//1018/159/1018_18...\n",
       "286907  https://fotos5.imghs.net/nrd//501624/758474540...\n",
       "275153  https://fotos2.imghs.net/nrd/1013/916/1013_inm...\n",
       "...                                                   ...\n",
       "101122  https://fotos1.imghs.net/nrd//520978/920024528...\n",
       "594036  https://fotos4.imghs.net/nrd//1005/365/1005_10...\n",
       "341233  https://fotos4.imghs.net/nrd//1005/007/1005_25...\n",
       "363026  https://fotos3.imghs.net/nrd/1094/703/1094_NG1...\n",
       "187695  https://fotos4.imghs.net/nrd/1036/377/1036_[SA...\n",
       "\n",
       "[3600 rows x 1 columns]"
      ]
     },
     "execution_count": 5,
     "metadata": {},
     "output_type": "execute_result"
    }
   ],
   "source": [
    "description_df"
   ]
  },
  {
   "cell_type": "code",
   "execution_count": 6,
   "metadata": {},
   "outputs": [
    {
     "ename": "JSONDecodeError",
     "evalue": "[Errno Expecting value] <html>\r\n<head><title>414 Request-URI Too Large</title></head>\r\n<body>\r\n<center><h1>414 Request-URI Too Large</h1></center>\r\n</body>\r\n</html>\r\n: 0",
     "output_type": "error",
     "traceback": [
      "\u001b[1;31m---------------------------------------------------------------------------\u001b[0m",
      "\u001b[1;31mJSONDecodeError\u001b[0m                           Traceback (most recent call last)",
      "File \u001b[1;32mc:\\Users\\Biel GG\\anaconda3\\lib\\site-packages\\requests\\models.py:910\u001b[0m, in \u001b[0;36mResponse.json\u001b[1;34m(self, **kwargs)\u001b[0m\n\u001b[0;32m    <a href='file:///c%3A/Users/Biel%20GG/anaconda3/lib/site-packages/requests/models.py?line=908'>909</a>\u001b[0m \u001b[39mtry\u001b[39;00m:\n\u001b[1;32m--> <a href='file:///c%3A/Users/Biel%20GG/anaconda3/lib/site-packages/requests/models.py?line=909'>910</a>\u001b[0m     \u001b[39mreturn\u001b[39;00m complexjson\u001b[39m.\u001b[39;49mloads(\u001b[39mself\u001b[39;49m\u001b[39m.\u001b[39;49mtext, \u001b[39m*\u001b[39;49m\u001b[39m*\u001b[39;49mkwargs)\n\u001b[0;32m    <a href='file:///c%3A/Users/Biel%20GG/anaconda3/lib/site-packages/requests/models.py?line=910'>911</a>\u001b[0m \u001b[39mexcept\u001b[39;00m JSONDecodeError \u001b[39mas\u001b[39;00m e:\n\u001b[0;32m    <a href='file:///c%3A/Users/Biel%20GG/anaconda3/lib/site-packages/requests/models.py?line=911'>912</a>\u001b[0m     \u001b[39m# Catch JSON-related errors and raise as requests.JSONDecodeError\u001b[39;00m\n\u001b[0;32m    <a href='file:///c%3A/Users/Biel%20GG/anaconda3/lib/site-packages/requests/models.py?line=912'>913</a>\u001b[0m     \u001b[39m# This aliases json.JSONDecodeError and simplejson.JSONDecodeError\u001b[39;00m\n",
      "File \u001b[1;32mc:\\Users\\Biel GG\\anaconda3\\lib\\json\\__init__.py:357\u001b[0m, in \u001b[0;36mloads\u001b[1;34m(s, cls, object_hook, parse_float, parse_int, parse_constant, object_pairs_hook, **kw)\u001b[0m\n\u001b[0;32m    <a href='file:///c%3A/Users/Biel%20GG/anaconda3/lib/json/__init__.py?line=353'>354</a>\u001b[0m \u001b[39mif\u001b[39;00m (\u001b[39mcls\u001b[39m \u001b[39mis\u001b[39;00m \u001b[39mNone\u001b[39;00m \u001b[39mand\u001b[39;00m object_hook \u001b[39mis\u001b[39;00m \u001b[39mNone\u001b[39;00m \u001b[39mand\u001b[39;00m\n\u001b[0;32m    <a href='file:///c%3A/Users/Biel%20GG/anaconda3/lib/json/__init__.py?line=354'>355</a>\u001b[0m         parse_int \u001b[39mis\u001b[39;00m \u001b[39mNone\u001b[39;00m \u001b[39mand\u001b[39;00m parse_float \u001b[39mis\u001b[39;00m \u001b[39mNone\u001b[39;00m \u001b[39mand\u001b[39;00m\n\u001b[0;32m    <a href='file:///c%3A/Users/Biel%20GG/anaconda3/lib/json/__init__.py?line=355'>356</a>\u001b[0m         parse_constant \u001b[39mis\u001b[39;00m \u001b[39mNone\u001b[39;00m \u001b[39mand\u001b[39;00m object_pairs_hook \u001b[39mis\u001b[39;00m \u001b[39mNone\u001b[39;00m \u001b[39mand\u001b[39;00m \u001b[39mnot\u001b[39;00m kw):\n\u001b[1;32m--> <a href='file:///c%3A/Users/Biel%20GG/anaconda3/lib/json/__init__.py?line=356'>357</a>\u001b[0m     \u001b[39mreturn\u001b[39;00m _default_decoder\u001b[39m.\u001b[39;49mdecode(s)\n\u001b[0;32m    <a href='file:///c%3A/Users/Biel%20GG/anaconda3/lib/json/__init__.py?line=357'>358</a>\u001b[0m \u001b[39mif\u001b[39;00m \u001b[39mcls\u001b[39m \u001b[39mis\u001b[39;00m \u001b[39mNone\u001b[39;00m:\n",
      "File \u001b[1;32mc:\\Users\\Biel GG\\anaconda3\\lib\\json\\decoder.py:337\u001b[0m, in \u001b[0;36mJSONDecoder.decode\u001b[1;34m(self, s, _w)\u001b[0m\n\u001b[0;32m    <a href='file:///c%3A/Users/Biel%20GG/anaconda3/lib/json/decoder.py?line=332'>333</a>\u001b[0m \u001b[39m\"\"\"Return the Python representation of ``s`` (a ``str`` instance\u001b[39;00m\n\u001b[0;32m    <a href='file:///c%3A/Users/Biel%20GG/anaconda3/lib/json/decoder.py?line=333'>334</a>\u001b[0m \u001b[39mcontaining a JSON document).\u001b[39;00m\n\u001b[0;32m    <a href='file:///c%3A/Users/Biel%20GG/anaconda3/lib/json/decoder.py?line=334'>335</a>\u001b[0m \n\u001b[0;32m    <a href='file:///c%3A/Users/Biel%20GG/anaconda3/lib/json/decoder.py?line=335'>336</a>\u001b[0m \u001b[39m\"\"\"\u001b[39;00m\n\u001b[1;32m--> <a href='file:///c%3A/Users/Biel%20GG/anaconda3/lib/json/decoder.py?line=336'>337</a>\u001b[0m obj, end \u001b[39m=\u001b[39m \u001b[39mself\u001b[39;49m\u001b[39m.\u001b[39;49mraw_decode(s, idx\u001b[39m=\u001b[39;49m_w(s, \u001b[39m0\u001b[39;49m)\u001b[39m.\u001b[39;49mend())\n\u001b[0;32m    <a href='file:///c%3A/Users/Biel%20GG/anaconda3/lib/json/decoder.py?line=337'>338</a>\u001b[0m end \u001b[39m=\u001b[39m _w(s, end)\u001b[39m.\u001b[39mend()\n",
      "File \u001b[1;32mc:\\Users\\Biel GG\\anaconda3\\lib\\json\\decoder.py:355\u001b[0m, in \u001b[0;36mJSONDecoder.raw_decode\u001b[1;34m(self, s, idx)\u001b[0m\n\u001b[0;32m    <a href='file:///c%3A/Users/Biel%20GG/anaconda3/lib/json/decoder.py?line=353'>354</a>\u001b[0m \u001b[39mexcept\u001b[39;00m \u001b[39mStopIteration\u001b[39;00m \u001b[39mas\u001b[39;00m err:\n\u001b[1;32m--> <a href='file:///c%3A/Users/Biel%20GG/anaconda3/lib/json/decoder.py?line=354'>355</a>\u001b[0m     \u001b[39mraise\u001b[39;00m JSONDecodeError(\u001b[39m\"\u001b[39m\u001b[39mExpecting value\u001b[39m\u001b[39m\"\u001b[39m, s, err\u001b[39m.\u001b[39mvalue) \u001b[39mfrom\u001b[39;00m \u001b[39mNone\u001b[39m\n\u001b[0;32m    <a href='file:///c%3A/Users/Biel%20GG/anaconda3/lib/json/decoder.py?line=355'>356</a>\u001b[0m \u001b[39mreturn\u001b[39;00m obj, end\n",
      "\u001b[1;31mJSONDecodeError\u001b[0m: Expecting value: line 1 column 1 (char 0)",
      "\nDuring handling of the above exception, another exception occurred:\n",
      "\u001b[1;31mJSONDecodeError\u001b[0m                           Traceback (most recent call last)",
      "Input \u001b[1;32mIn [6]\u001b[0m, in \u001b[0;36m<cell line: 2>\u001b[1;34m()\u001b[0m\n\u001b[0;32m      1\u001b[0m \u001b[39m# %%\u001b[39;00m\n\u001b[1;32m----> 2\u001b[0m result_df \u001b[39m=\u001b[39m description_df\u001b[39m.\u001b[39;49mapply(read_vision)\n",
      "File \u001b[1;32mc:\\Users\\Biel GG\\anaconda3\\lib\\site-packages\\pandas\\core\\frame.py:8839\u001b[0m, in \u001b[0;36mDataFrame.apply\u001b[1;34m(self, func, axis, raw, result_type, args, **kwargs)\u001b[0m\n\u001b[0;32m   <a href='file:///c%3A/Users/Biel%20GG/anaconda3/lib/site-packages/pandas/core/frame.py?line=8827'>8828</a>\u001b[0m \u001b[39mfrom\u001b[39;00m \u001b[39mpandas\u001b[39;00m\u001b[39m.\u001b[39;00m\u001b[39mcore\u001b[39;00m\u001b[39m.\u001b[39;00m\u001b[39mapply\u001b[39;00m \u001b[39mimport\u001b[39;00m frame_apply\n\u001b[0;32m   <a href='file:///c%3A/Users/Biel%20GG/anaconda3/lib/site-packages/pandas/core/frame.py?line=8829'>8830</a>\u001b[0m op \u001b[39m=\u001b[39m frame_apply(\n\u001b[0;32m   <a href='file:///c%3A/Users/Biel%20GG/anaconda3/lib/site-packages/pandas/core/frame.py?line=8830'>8831</a>\u001b[0m     \u001b[39mself\u001b[39m,\n\u001b[0;32m   <a href='file:///c%3A/Users/Biel%20GG/anaconda3/lib/site-packages/pandas/core/frame.py?line=8831'>8832</a>\u001b[0m     func\u001b[39m=\u001b[39mfunc,\n\u001b[1;32m   (...)\u001b[0m\n\u001b[0;32m   <a href='file:///c%3A/Users/Biel%20GG/anaconda3/lib/site-packages/pandas/core/frame.py?line=8836'>8837</a>\u001b[0m     kwargs\u001b[39m=\u001b[39mkwargs,\n\u001b[0;32m   <a href='file:///c%3A/Users/Biel%20GG/anaconda3/lib/site-packages/pandas/core/frame.py?line=8837'>8838</a>\u001b[0m )\n\u001b[1;32m-> <a href='file:///c%3A/Users/Biel%20GG/anaconda3/lib/site-packages/pandas/core/frame.py?line=8838'>8839</a>\u001b[0m \u001b[39mreturn\u001b[39;00m op\u001b[39m.\u001b[39;49mapply()\u001b[39m.\u001b[39m__finalize__(\u001b[39mself\u001b[39m, method\u001b[39m=\u001b[39m\u001b[39m\"\u001b[39m\u001b[39mapply\u001b[39m\u001b[39m\"\u001b[39m)\n",
      "File \u001b[1;32mc:\\Users\\Biel GG\\anaconda3\\lib\\site-packages\\pandas\\core\\apply.py:727\u001b[0m, in \u001b[0;36mFrameApply.apply\u001b[1;34m(self)\u001b[0m\n\u001b[0;32m    <a href='file:///c%3A/Users/Biel%20GG/anaconda3/lib/site-packages/pandas/core/apply.py?line=723'>724</a>\u001b[0m \u001b[39melif\u001b[39;00m \u001b[39mself\u001b[39m\u001b[39m.\u001b[39mraw:\n\u001b[0;32m    <a href='file:///c%3A/Users/Biel%20GG/anaconda3/lib/site-packages/pandas/core/apply.py?line=724'>725</a>\u001b[0m     \u001b[39mreturn\u001b[39;00m \u001b[39mself\u001b[39m\u001b[39m.\u001b[39mapply_raw()\n\u001b[1;32m--> <a href='file:///c%3A/Users/Biel%20GG/anaconda3/lib/site-packages/pandas/core/apply.py?line=726'>727</a>\u001b[0m \u001b[39mreturn\u001b[39;00m \u001b[39mself\u001b[39;49m\u001b[39m.\u001b[39;49mapply_standard()\n",
      "File \u001b[1;32mc:\\Users\\Biel GG\\anaconda3\\lib\\site-packages\\pandas\\core\\apply.py:851\u001b[0m, in \u001b[0;36mFrameApply.apply_standard\u001b[1;34m(self)\u001b[0m\n\u001b[0;32m    <a href='file:///c%3A/Users/Biel%20GG/anaconda3/lib/site-packages/pandas/core/apply.py?line=849'>850</a>\u001b[0m \u001b[39mdef\u001b[39;00m \u001b[39mapply_standard\u001b[39m(\u001b[39mself\u001b[39m):\n\u001b[1;32m--> <a href='file:///c%3A/Users/Biel%20GG/anaconda3/lib/site-packages/pandas/core/apply.py?line=850'>851</a>\u001b[0m     results, res_index \u001b[39m=\u001b[39m \u001b[39mself\u001b[39;49m\u001b[39m.\u001b[39;49mapply_series_generator()\n\u001b[0;32m    <a href='file:///c%3A/Users/Biel%20GG/anaconda3/lib/site-packages/pandas/core/apply.py?line=852'>853</a>\u001b[0m     \u001b[39m# wrap results\u001b[39;00m\n\u001b[0;32m    <a href='file:///c%3A/Users/Biel%20GG/anaconda3/lib/site-packages/pandas/core/apply.py?line=853'>854</a>\u001b[0m     \u001b[39mreturn\u001b[39;00m \u001b[39mself\u001b[39m\u001b[39m.\u001b[39mwrap_results(results, res_index)\n",
      "File \u001b[1;32mc:\\Users\\Biel GG\\anaconda3\\lib\\site-packages\\pandas\\core\\apply.py:867\u001b[0m, in \u001b[0;36mFrameApply.apply_series_generator\u001b[1;34m(self)\u001b[0m\n\u001b[0;32m    <a href='file:///c%3A/Users/Biel%20GG/anaconda3/lib/site-packages/pandas/core/apply.py?line=863'>864</a>\u001b[0m \u001b[39mwith\u001b[39;00m option_context(\u001b[39m\"\u001b[39m\u001b[39mmode.chained_assignment\u001b[39m\u001b[39m\"\u001b[39m, \u001b[39mNone\u001b[39;00m):\n\u001b[0;32m    <a href='file:///c%3A/Users/Biel%20GG/anaconda3/lib/site-packages/pandas/core/apply.py?line=864'>865</a>\u001b[0m     \u001b[39mfor\u001b[39;00m i, v \u001b[39min\u001b[39;00m \u001b[39menumerate\u001b[39m(series_gen):\n\u001b[0;32m    <a href='file:///c%3A/Users/Biel%20GG/anaconda3/lib/site-packages/pandas/core/apply.py?line=865'>866</a>\u001b[0m         \u001b[39m# ignore SettingWithCopy here in case the user mutates\u001b[39;00m\n\u001b[1;32m--> <a href='file:///c%3A/Users/Biel%20GG/anaconda3/lib/site-packages/pandas/core/apply.py?line=866'>867</a>\u001b[0m         results[i] \u001b[39m=\u001b[39m \u001b[39mself\u001b[39;49m\u001b[39m.\u001b[39;49mf(v)\n\u001b[0;32m    <a href='file:///c%3A/Users/Biel%20GG/anaconda3/lib/site-packages/pandas/core/apply.py?line=867'>868</a>\u001b[0m         \u001b[39mif\u001b[39;00m \u001b[39misinstance\u001b[39m(results[i], ABCSeries):\n\u001b[0;32m    <a href='file:///c%3A/Users/Biel%20GG/anaconda3/lib/site-packages/pandas/core/apply.py?line=868'>869</a>\u001b[0m             \u001b[39m# If we have a view on v, we need to make a copy because\u001b[39;00m\n\u001b[0;32m    <a href='file:///c%3A/Users/Biel%20GG/anaconda3/lib/site-packages/pandas/core/apply.py?line=869'>870</a>\u001b[0m             \u001b[39m#  series_generator will swap out the underlying data\u001b[39;00m\n\u001b[0;32m    <a href='file:///c%3A/Users/Biel%20GG/anaconda3/lib/site-packages/pandas/core/apply.py?line=870'>871</a>\u001b[0m             results[i] \u001b[39m=\u001b[39m results[i]\u001b[39m.\u001b[39mcopy(deep\u001b[39m=\u001b[39m\u001b[39mFalse\u001b[39;00m)\n",
      "\u001b[1;32mc:\\Users\\Biel GG\\Documents\\Hackaton\\DF_conformation.py\u001b[0m in \u001b[0;36mread_vision\u001b[1;34m(img_url)\u001b[0m\n\u001b[0;32m     <a href='file:///c%3A/Users/Biel%20GG/Documents/Hackaton/DF_conformation.py?line=44'>45</a>\u001b[0m response \u001b[39m=\u001b[39m requests\u001b[39m.\u001b[39mget(url, params\u001b[39m=\u001b[39mpayload)\n\u001b[0;32m     <a href='file:///c%3A/Users/Biel%20GG/Documents/Hackaton/DF_conformation.py?line=46'>47</a>\u001b[0m \u001b[39m# The response is formatted in JSON\u001b[39;00m\n\u001b[1;32m---> <a href='file:///c%3A/Users/Biel%20GG/Documents/Hackaton/DF_conformation.py?line=47'>48</a>\u001b[0m json_response \u001b[39m=\u001b[39m response\u001b[39m.\u001b[39;49mjson()\n\u001b[0;32m     <a href='file:///c%3A/Users/Biel%20GG/Documents/Hackaton/DF_conformation.py?line=48'>49</a>\u001b[0m \u001b[39mreturn\u001b[39;00m json_response\n",
      "File \u001b[1;32mc:\\Users\\Biel GG\\anaconda3\\lib\\site-packages\\requests\\models.py:917\u001b[0m, in \u001b[0;36mResponse.json\u001b[1;34m(self, **kwargs)\u001b[0m\n\u001b[0;32m    <a href='file:///c%3A/Users/Biel%20GG/anaconda3/lib/site-packages/requests/models.py?line=914'>915</a>\u001b[0m     \u001b[39mraise\u001b[39;00m RequestsJSONDecodeError(e\u001b[39m.\u001b[39mmessage)\n\u001b[0;32m    <a href='file:///c%3A/Users/Biel%20GG/anaconda3/lib/site-packages/requests/models.py?line=915'>916</a>\u001b[0m \u001b[39melse\u001b[39;00m:\n\u001b[1;32m--> <a href='file:///c%3A/Users/Biel%20GG/anaconda3/lib/site-packages/requests/models.py?line=916'>917</a>\u001b[0m     \u001b[39mraise\u001b[39;00m RequestsJSONDecodeError(e\u001b[39m.\u001b[39mmsg, e\u001b[39m.\u001b[39mdoc, e\u001b[39m.\u001b[39mpos)\n",
      "\u001b[1;31mJSONDecodeError\u001b[0m: [Errno Expecting value] <html>\r\n<head><title>414 Request-URI Too Large</title></head>\r\n<body>\r\n<center><h1>414 Request-URI Too Large</h1></center>\r\n</body>\r\n</html>\r\n: 0"
     ]
    }
   ],
   "source": [
    "result_df = description_df.apply(read_vision)"
   ]
  },
  {
   "cell_type": "code",
   "execution_count": 7,
   "metadata": {},
   "outputs": [],
   "source": [
    "result_df = description_df.Url.apply(read_vision)"
   ]
  }
 ],
 "metadata": {
  "kernelspec": {
   "display_name": "base",
   "language": "python",
   "name": "python3"
  },
  "language_info": {
   "codemirror_mode": {
    "name": "ipython",
    "version": 3
   },
   "file_extension": ".py",
   "mimetype": "text/x-python",
   "name": "python",
   "nbconvert_exporter": "python",
   "pygments_lexer": "ipython3",
   "version": "3.8.13"
  }
 },
 "nbformat": 4,
 "nbformat_minor": 2
}

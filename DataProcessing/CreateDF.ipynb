{
 "cells": [
  {
   "cell_type": "code",
   "execution_count": 1,
   "source": [
    "import pandas as pd\n",
    "import csv\n",
    "import re\n",
    "from sklearn.preprocessing import MultiLabelBinarizer\n",
    "import matplotlib.pyplot as plt"
   ],
   "outputs": [],
   "metadata": {}
  },
  {
   "cell_type": "code",
   "execution_count": 2,
   "source": [
    "descr_list=[]\n",
    "\n",
    "with open('save_descriptions.csv', mode=\"r\") as csvfile:\n",
    "    reader = csv.reader(csvfile, delimiter=\";\")\n",
    "    for entry in reader:\n",
    "        descr_list.append(entry)\n",
    "csvfile.close()"
   ],
   "outputs": [],
   "metadata": {}
  },
  {
   "cell_type": "code",
   "execution_count": 3,
   "source": [
    "descr_list2=[]\n",
    "with open('save_descriptions_2.csv', mode=\"r\") as csvfile2:\n",
    "    reader = csv.reader(csvfile2, delimiter=\";\")\n",
    "    for entry in reader:\n",
    "        descr_list2.append(entry)\n",
    "csvfile2.close()"
   ],
   "outputs": [],
   "metadata": {}
  },
  {
   "cell_type": "code",
   "execution_count": 4,
   "source": [
    "descr_dict = {}\n",
    "for i in range(len(descr_list[0])):\n",
    "    labels = re.findall(r\"label':\\s*'([^']+)'\", descr_list[0][i])\n",
    "    score = re.findall(r\"'score':\\s*([0-9]+(?:\\.[0-9]+)?)\", descr_list[0][i])\n",
    "    if len(labels)==0 or len(score)==0:\n",
    "        continue\n",
    "    descr_dict[i] = {'label' : labels, 'score':float(score[0])}\n",
    "\n",
    "descr_dict2 = {}\n",
    "for i in range(len(descr_list2[0])):\n",
    "    labels = re.findall(r\"label':\\s*'([^']+)'\", descr_list2[0][i])\n",
    "    score = re.findall(r\"'score':\\s*([0-9]+(?:\\.[0-9]+)?)\", descr_list2[0][i])\n",
    "    if len(labels)==0 or len(score)==0:\n",
    "        continue\n",
    "    descr_dict2[i] = {'label' : labels, 'score':float(score[0])}"
   ],
   "outputs": [],
   "metadata": {}
  },
  {
   "cell_type": "code",
   "execution_count": 5,
   "source": [
    "labeled_df = pd.DataFrame.from_dict(descr_dict).T\n",
    "labeled_df2 = pd.DataFrame.from_dict(descr_dict2).T\n",
    "labeled_df = pd.concat([labeled_df, labeled_df2])"
   ],
   "outputs": [],
   "metadata": {}
  },
  {
   "cell_type": "code",
   "execution_count": 6,
   "source": [
    "labeled_df['num_labels'] = labeled_df.label.apply(len)"
   ],
   "outputs": [],
   "metadata": {}
  },
  {
   "cell_type": "code",
   "execution_count": 7,
   "source": [
    "mlb = MultiLabelBinarizer(sparse_output=True)\n",
    "labeled_df = labeled_df.join(pd.DataFrame.sparse.from_spmatrix(mlb.fit_transform(labeled_df.pop('label')),\n",
    "                                                                index=labeled_df.index,\n",
    "                                                                columns=mlb.classes_))"
   ],
   "outputs": [],
   "metadata": {}
  },
  {
   "cell_type": "code",
   "execution_count": 8,
   "source": [
    "inform_df = pd.DataFrame((labeled_df.sum()/(labeled_df.sum().num_labels)) * 100).T.drop(columns=['score','num_labels'])"
   ],
   "outputs": [],
   "metadata": {}
  },
  {
   "cell_type": "code",
   "execution_count": 9,
   "source": [
    "inform_df.to_csv('pcntg_labels.csv')\n",
    "labeled_df.to_csv('Processed_dataset.csv')"
   ],
   "outputs": [],
   "metadata": {}
  }
 ],
 "nbformat": 4,
 "nbformat_minor": 2,
 "metadata": {
  "language_info": {
   "codemirror_mode": {
    "name": "ipython",
    "version": 3
   },
   "file_extension": ".py",
   "mimetype": "text/x-python",
   "name": "python",
   "nbconvert_exporter": "python",
   "pygments_lexer": "ipython3",
   "version": 3
  }
 }
}
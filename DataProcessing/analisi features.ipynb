{
 "cells": [
  {
   "cell_type": "markdown",
   "id": "1f12612a",
   "metadata": {},
   "source": [
    "## Import"
   ]
  },
  {
   "cell_type": "code",
   "execution_count": 1,
   "id": "617cc050",
   "metadata": {},
   "outputs": [],
   "source": [
    "import torch\n",
    "import torchvision\n",
    "from torch import nn\n",
    "from torch.utils.data import DataLoader\n",
    "from torchvision.utils import make_grid\n",
    "import seaborn as sns\n",
    "import matplotlib.pyplot as plt\n",
    "import numpy as np\n",
    "import pandas as pd\n",
    "from sklearn.model_selection import train_test_split\n",
    "from sklearn.datasets import make_regression\n",
    "from sklearn.model_selection import train_test_split\n",
    "from sklearn.ensemble import RandomForestRegressor\n",
    "from sklearn.metrics import mean_squared_error, r2_score\n",
    "from sklearn.inspection import permutation_importance\n",
    "import matplotlib.pyplot as plt"
   ]
  },
  {
   "cell_type": "markdown",
   "id": "04115699",
   "metadata": {},
   "source": [
    "## Entrenament amb random forest "
   ]
  },
  {
   "cell_type": "markdown",
   "id": "de53444f",
   "metadata": {},
   "source": [
    "En aquest entrenament volem observar les prediccions de les features que tenen a veure amb el terra de les vivendes"
   ]
  },
  {
   "cell_type": "code",
   "execution_count": 2,
   "id": "54338351",
   "metadata": {},
   "outputs": [
    {
     "data": {
      "text/html": [
       "<div>\n",
       "<style scoped>\n",
       "    .dataframe tbody tr th:only-of-type {\n",
       "        vertical-align: middle;\n",
       "    }\n",
       "\n",
       "    .dataframe tbody tr th {\n",
       "        vertical-align: top;\n",
       "    }\n",
       "\n",
       "    .dataframe thead th {\n",
       "        text-align: right;\n",
       "    }\n",
       "</style>\n",
       "<table border=\"1\" class=\"dataframe\">\n",
       "  <thead>\n",
       "    <tr style=\"text-align: right;\">\n",
       "      <th></th>\n",
       "      <th>aggregate_floor</th>\n",
       "      <th>concrete_floor</th>\n",
       "      <th>floor_ceiling</th>\n",
       "      <th>floor_ceiling_windows</th>\n",
       "      <th>hardwood_floor</th>\n",
       "      <th>parquet_floor</th>\n",
       "      <th>tile_floor</th>\n",
       "      <th>score</th>\n",
       "    </tr>\n",
       "  </thead>\n",
       "  <tbody>\n",
       "    <tr>\n",
       "      <th>0</th>\n",
       "      <td>0</td>\n",
       "      <td>0</td>\n",
       "      <td>0</td>\n",
       "      <td>0</td>\n",
       "      <td>1</td>\n",
       "      <td>0</td>\n",
       "      <td>0</td>\n",
       "      <td>3.5</td>\n",
       "    </tr>\n",
       "    <tr>\n",
       "      <th>1</th>\n",
       "      <td>0</td>\n",
       "      <td>1</td>\n",
       "      <td>0</td>\n",
       "      <td>0</td>\n",
       "      <td>0</td>\n",
       "      <td>0</td>\n",
       "      <td>0</td>\n",
       "      <td>3.5</td>\n",
       "    </tr>\n",
       "    <tr>\n",
       "      <th>2</th>\n",
       "      <td>0</td>\n",
       "      <td>0</td>\n",
       "      <td>0</td>\n",
       "      <td>0</td>\n",
       "      <td>1</td>\n",
       "      <td>0</td>\n",
       "      <td>0</td>\n",
       "      <td>3.9</td>\n",
       "    </tr>\n",
       "    <tr>\n",
       "      <th>3</th>\n",
       "      <td>0</td>\n",
       "      <td>1</td>\n",
       "      <td>0</td>\n",
       "      <td>0</td>\n",
       "      <td>0</td>\n",
       "      <td>0</td>\n",
       "      <td>0</td>\n",
       "      <td>3.9</td>\n",
       "    </tr>\n",
       "    <tr>\n",
       "      <th>4</th>\n",
       "      <td>0</td>\n",
       "      <td>0</td>\n",
       "      <td>0</td>\n",
       "      <td>0</td>\n",
       "      <td>1</td>\n",
       "      <td>0</td>\n",
       "      <td>0</td>\n",
       "      <td>3.4</td>\n",
       "    </tr>\n",
       "    <tr>\n",
       "      <th>...</th>\n",
       "      <td>...</td>\n",
       "      <td>...</td>\n",
       "      <td>...</td>\n",
       "      <td>...</td>\n",
       "      <td>...</td>\n",
       "      <td>...</td>\n",
       "      <td>...</td>\n",
       "      <td>...</td>\n",
       "    </tr>\n",
       "    <tr>\n",
       "      <th>1671</th>\n",
       "      <td>0</td>\n",
       "      <td>0</td>\n",
       "      <td>0</td>\n",
       "      <td>0</td>\n",
       "      <td>0</td>\n",
       "      <td>0</td>\n",
       "      <td>0</td>\n",
       "      <td>3.4</td>\n",
       "    </tr>\n",
       "    <tr>\n",
       "      <th>1672</th>\n",
       "      <td>0</td>\n",
       "      <td>0</td>\n",
       "      <td>0</td>\n",
       "      <td>0</td>\n",
       "      <td>1</td>\n",
       "      <td>0</td>\n",
       "      <td>0</td>\n",
       "      <td>3.4</td>\n",
       "    </tr>\n",
       "    <tr>\n",
       "      <th>1673</th>\n",
       "      <td>0</td>\n",
       "      <td>0</td>\n",
       "      <td>0</td>\n",
       "      <td>0</td>\n",
       "      <td>0</td>\n",
       "      <td>0</td>\n",
       "      <td>1</td>\n",
       "      <td>3.8</td>\n",
       "    </tr>\n",
       "    <tr>\n",
       "      <th>1674</th>\n",
       "      <td>0</td>\n",
       "      <td>0</td>\n",
       "      <td>0</td>\n",
       "      <td>0</td>\n",
       "      <td>0</td>\n",
       "      <td>0</td>\n",
       "      <td>0</td>\n",
       "      <td>4.5</td>\n",
       "    </tr>\n",
       "    <tr>\n",
       "      <th>1675</th>\n",
       "      <td>0</td>\n",
       "      <td>0</td>\n",
       "      <td>0</td>\n",
       "      <td>0</td>\n",
       "      <td>0</td>\n",
       "      <td>0</td>\n",
       "      <td>1</td>\n",
       "      <td>2.5</td>\n",
       "    </tr>\n",
       "  </tbody>\n",
       "</table>\n",
       "<p>1676 rows × 8 columns</p>\n",
       "</div>"
      ],
      "text/plain": [
       "      aggregate_floor  concrete_floor  floor_ceiling  floor_ceiling_windows  \\\n",
       "0                   0               0              0                      0   \n",
       "1                   0               1              0                      0   \n",
       "2                   0               0              0                      0   \n",
       "3                   0               1              0                      0   \n",
       "4                   0               0              0                      0   \n",
       "...               ...             ...            ...                    ...   \n",
       "1671                0               0              0                      0   \n",
       "1672                0               0              0                      0   \n",
       "1673                0               0              0                      0   \n",
       "1674                0               0              0                      0   \n",
       "1675                0               0              0                      0   \n",
       "\n",
       "      hardwood_floor  parquet_floor  tile_floor  score  \n",
       "0                  1              0           0    3.5  \n",
       "1                  0              0           0    3.5  \n",
       "2                  1              0           0    3.9  \n",
       "3                  0              0           0    3.9  \n",
       "4                  1              0           0    3.4  \n",
       "...              ...            ...         ...    ...  \n",
       "1671               0              0           0    3.4  \n",
       "1672               1              0           0    3.4  \n",
       "1673               0              0           1    3.8  \n",
       "1674               0              0           0    4.5  \n",
       "1675               0              0           1    2.5  \n",
       "\n",
       "[1676 rows x 8 columns]"
      ]
     },
     "execution_count": 2,
     "metadata": {},
     "output_type": "execute_result"
    }
   ],
   "source": [
    "# Preparem el dataset amb les features d'interes\n",
    "data = pd.read_csv('Processed_dataset.csv', index_col=0).reset_index(drop=True)\n",
    "flors = [x for x in data.columns if 'floor' in x]\n",
    "flors.append('score')\n",
    "dt_floors=data[flors]\n",
    "dt_floors"
   ]
  },
  {
   "cell_type": "code",
   "execution_count": 3,
   "id": "97715eea",
   "metadata": {},
   "outputs": [],
   "source": [
    "# Divisió de les dades en conjunts d'entrenament i prova (80% entrenament, 20% prova)\n",
    "y=dt_floors['score']\n",
    "X=dt_floors.drop('score',axis=1)\n",
    "X_train, X_test, y_train, y_test = train_test_split(X, y, test_size=0.2, random_state=42)"
   ]
  },
  {
   "cell_type": "code",
   "execution_count": 4,
   "id": "6cfa95a4",
   "metadata": {
    "scrolled": false
   },
   "outputs": [
    {
     "name": "stdout",
     "output_type": "stream",
     "text": [
      "Mean Squared Error: 0.5399380916789797\n",
      "R2 Score: 0.04224549103574826\n"
     ]
    },
    {
     "data": {
      "image/png": "[encoded data removed]",
      "text/plain": [
       "<Figure size 640x480 with 1 Axes>"
      ]
     },
     "metadata": {},
     "output_type": "display_data"
    }
   ],
   "source": [
    "# Inicialitza el regressor Random Forest\n",
    "rf_regressor = RandomForestRegressor(n_estimators=100, random_state=42)\n",
    "\n",
    "# Entrena el model\n",
    "rf_regressor.fit(X_train, y_train)\n",
    "\n",
    "# Prediu amb les dades de prova\n",
    "y_pred = rf_regressor.predict(X_test)\n",
    "\n",
    "# Avalua el model\n",
    "mse = mean_squared_error(y_test, y_pred)\n",
    "r2 = r2_score(y_test, y_pred)\n",
    "print(f\"Mean Squared Error: {mse}\")\n",
    "print(f\"R2 Score: {r2}\")\n",
    "\n",
    "# Visualitza la comparació entre les prediccions i les dades reals\n",
    "plt.scatter(y_test, y_pred)\n",
    "plt.xlabel(\"Valors Reals\")\n",
    "plt.ylabel(\"Prediccions\")\n",
    "plt.title(\"Comparació entre Valors Reals i Prediccions\")\n",
    "plt.show()"
   ]
  },
  {
   "cell_type": "markdown",
   "id": "c7eb8b71",
   "metadata": {},
   "source": [
    "En aquest entrenament volem observar les prediccions de les features que tenen a veure amb el garatge de les vivendes"
   ]
  },
  {
   "cell_type": "code",
   "execution_count": 5,
   "id": "3df8da3c",
   "metadata": {},
   "outputs": [],
   "source": [
    "garage = [x for x in data.columns if 'garage' in x]\n",
    "garage.append('score')\n",
    "dt_garage=data[garage]"
   ]
  },
  {
   "cell_type": "code",
   "execution_count": 6,
   "id": "4cb17287",
   "metadata": {},
   "outputs": [],
   "source": [
    "# Divisió de les dades en conjunts d'entrenament i prova (80% entrenament, 20% prova)\n",
    "y=dt_garage['score']\n",
    "X=dt_garage.drop('score',axis=1)\n",
    "X_train, X_test, y_train, y_test = train_test_split(X, y, test_size=0.2, random_state=42)"
   ]
  },
  {
   "cell_type": "code",
   "execution_count": 7,
   "id": "0f23a83f",
   "metadata": {},
   "outputs": [
    {
     "name": "stdout",
     "output_type": "stream",
     "text": [
      "Mean Squared Error: 0.5635104542131011\n",
      "R2 Score: 0.00043229642710118643\n"
     ]
    },
    {
     "data": {
      "image/png": "[encoded data removed]",
      "text/plain": [
       "<Figure size 640x480 with 1 Axes>"
      ]
     },
     "metadata": {},
     "output_type": "display_data"
    }
   ],
   "source": [
    "# Inicialitza el regressor Random Forest\n",
    "rf_regressor = RandomForestRegressor(n_estimators=100, random_state=42)\n",
    "\n",
    "# Entrena el model\n",
    "rf_regressor.fit(X_train, y_train)\n",
    "\n",
    "# Prediu amb les dades de prova\n",
    "y_pred = rf_regressor.predict(X_test)\n",
    "\n",
    "# Avalua el model\n",
    "mse = mean_squared_error(y_test, y_pred)\n",
    "r2 = r2_score(y_test, y_pred)\n",
    "print(f\"Mean Squared Error: {mse}\")\n",
    "print(f\"R2 Score: {r2}\")\n",
    "\n",
    "# Visualitza la comparació entre les prediccions i les dades reals\n",
    "plt.scatter(y_test, y_pred)\n",
    "plt.xlabel(\"Valors Reals\")\n",
    "plt.ylabel(\"Prediccions\")\n",
    "plt.title(\"Comparació entre Valors Reals i Prediccions\")\n",
    "plt.show()"
   ]
  }
 ],
 "metadata": {
  "kernelspec": {
   "display_name": "Python 3 (ipykernel)",
   "language": "python",
   "name": "python3"
  },
  "language_info": {
   "codemirror_mode": {
    "name": "ipython",
    "version": 3
   },
   "file_extension": ".py",
   "mimetype": "text/x-python",
   "name": "python",
   "nbconvert_exporter": "python",
   "pygments_lexer": "ipython3",
   "version": "3.11.5"
  }
 },
 "nbformat": 4,
 "nbformat_minor": 5
}

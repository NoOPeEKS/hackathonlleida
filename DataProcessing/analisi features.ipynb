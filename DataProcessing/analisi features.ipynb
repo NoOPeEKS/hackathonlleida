{
 "cells": [
  {
   "cell_type": "markdown",
   "id": "6bcf92f5",
   "metadata": {},
   "source": [
    "## Import"
   ]
  },
  {
   "cell_type": "code",
   "execution_count": 1,
   "id": "617cc050",
   "metadata": {},
   "outputs": [],
   "source": [
    "import torch\n",
    "import torchvision\n",
    "from torch import nn\n",
    "from torch.utils.data import DataLoader\n",
    "from torchvision.utils import make_grid\n",
    "import seaborn as sns\n",
    "import matplotlib.pyplot as plt\n",
    "import numpy as np\n",
    "import pandas as pd\n",
    "from sklearn.model_selection import train_test_split\n",
    "from sklearn.datasets import make_regression\n",
    "from sklearn.model_selection import train_test_split\n",
    "from sklearn.ensemble import RandomForestRegressor\n",
    "from sklearn.metrics import mean_squared_error, r2_score\n",
    "from sklearn.inspection import permutation_importance\n",
    "import matplotlib.pyplot as plt"
   ]
  },
  {
   "cell_type": "markdown",
   "id": "0c0910f8",
   "metadata": {},
   "source": [
    "## Entrenament amb random forest "
   ]
  },
  {
   "cell_type": "markdown",
   "id": "6e47f9f7",
   "metadata": {},
   "source": [
    "En aquest entrenament volem observar les prediccions de les features que tenen a veure amb el terra de les vivendes"
   ]
  },
  {
   "cell_type": "code",
   "execution_count": 2,
   "id": "54338351",
   "metadata": {},
   "outputs": [
    {
     "ename": "NameError",
     "evalue": "name 'data' is not defined",
     "output_type": "error",
     "traceback": [
      "\u001b[0;31m---------------------------------------------------------------------------\u001b[0m",
      "\u001b[0;31mNameError\u001b[0m                                 Traceback (most recent call last)",
      "Cell \u001b[0;32mIn[2], line 2\u001b[0m\n\u001b[1;32m      1\u001b[0m \u001b[38;5;66;03m# Preparem el dataset amb les features d'interes\u001b[39;00m\n\u001b[0;32m----> 2\u001b[0m dt\u001b[38;5;241m=\u001b[39mdata[flors]\n\u001b[1;32m      3\u001b[0m data \u001b[38;5;241m=\u001b[39m pd\u001b[38;5;241m.\u001b[39mread_csv(\u001b[38;5;124m'\u001b[39m\u001b[38;5;124mProcessed_dataset.csv\u001b[39m\u001b[38;5;124m'\u001b[39m, index_col\u001b[38;5;241m=\u001b[39m\u001b[38;5;241m0\u001b[39m)\u001b[38;5;241m.\u001b[39mreset_index(drop\u001b[38;5;241m=\u001b[39m\u001b[38;5;28;01mTrue\u001b[39;00m)\n\u001b[1;32m      4\u001b[0m flors \u001b[38;5;241m=\u001b[39m [x \u001b[38;5;28;01mfor\u001b[39;00m x \u001b[38;5;129;01min\u001b[39;00m data\u001b[38;5;241m.\u001b[39mcolumns \u001b[38;5;28;01mif\u001b[39;00m \u001b[38;5;124m'\u001b[39m\u001b[38;5;124mfloor\u001b[39m\u001b[38;5;124m'\u001b[39m \u001b[38;5;129;01min\u001b[39;00m x]\n",
      "\u001b[0;31mNameError\u001b[0m: name 'data' is not defined"
     ]
    }
   ],
   "source": [
    "# Preparem el dataset amb les features d'interes\n",
    "dt=data[flors]\n",
    "data = pd.read_csv('Processed_dataset.csv', index_col=0).reset_index(drop=True)\n",
    "flors = [x for x in data.columns if 'floor' in x]\n",
    "flors.append('score')\n",
    "dt_floors=data[flors]\n",
    "dt_floors"
   ]
  },
  {
   "cell_type": "code",
   "execution_count": null,
   "id": "97715eea",
   "metadata": {},
   "outputs": [],
   "source": [
    "# Divisió de les dades en conjunts d'entrenament i prova (80% entrenament, 20% prova)\n",
    "y=dt_floors['score']\n",
    "X=dt_floors.drop('score',axis=1)\n",
    "X_train, X_test, y_train, y_test = train_test_split(X, y, test_size=0.2, random_state=42)"
   ]
  },
  {
   "cell_type": "code",
   "execution_count": null,
   "id": "6cfa95a4",
   "metadata": {
    "scrolled": false
   },
   "outputs": [],
   "source": [
    "# Inicialitza el regressor Random Forest\n",
    "rf_regressor = RandomForestRegressor(n_estimators=100, random_state=42)\n",
    "\n",
    "# Entrena el model\n",
    "rf_regressor.fit(X_train, y_train)\n",
    "\n",
    "# Prediu amb les dades de prova\n",
    "y_pred = rf_regressor.predict(X_test)\n",
    "\n",
    "# Avalua el model\n",
    "mse = mean_squared_error(y_test, y_pred)\n",
    "r2 = r2_score(y_test, y_pred)\n",
    "print(f\"Mean Squared Error: {mse}\")\n",
    "print(f\"R2 Score: {r2}\")\n",
    "\n",
    "# Visualitza la comparació entre les prediccions i les dades reals\n",
    "plt.scatter(y_test, y_pred)\n",
    "plt.xlabel(\"Valors Reals\")\n",
    "plt.ylabel(\"Prediccions\")\n",
    "plt.title(\"Comparació entre Valors Reals i Prediccions\")\n",
    "plt.show()"
   ]
  },
  {
   "cell_type": "markdown",
   "id": "4fdbb9da",
   "metadata": {},
   "source": [
    "En aquest entrenament volem observar les prediccions de les features que tenen a veure amb el garatge de les vivendes"
   ]
  },
  {
   "cell_type": "code",
   "execution_count": null,
   "id": "3df8da3c",
   "metadata": {},
   "outputs": [],
   "source": [
    "garage = [x for x in data.columns if 'garage' in x]\n",
    "garage.append('score')\n",
    "dt_garage=data[garage]"
   ]
  },
  {
   "cell_type": "code",
   "execution_count": null,
   "id": "4cb17287",
   "metadata": {},
   "outputs": [],
   "source": [
    "# Divisió de les dades en conjunts d'entrenament i prova (80% entrenament, 20% prova)\n",
    "y=dt_garage['score']\n",
    "X=dt_garage.drop('score',axis=1)\n",
    "X_train, X_test, y_train, y_test = train_test_split(X, y, test_size=0.2, random_state=42)"
   ]
  },
  {
   "cell_type": "code",
   "execution_count": null,
   "id": "0f23a83f",
   "metadata": {},
   "outputs": [],
   "source": [
    "# Inicialitza el regressor Random Forest\n",
    "rf_regressor = RandomForestRegressor(n_estimators=100, random_state=42)\n",
    "\n",
    "# Entrena el model\n",
    "rf_regressor.fit(X_train, y_train)\n",
    "\n",
    "# Prediu amb les dades de prova\n",
    "y_pred = rf_regressor.predict(X_test)\n",
    "\n",
    "# Avalua el model\n",
    "mse = mean_squared_error(y_test, y_pred)\n",
    "r2 = r2_score(y_test, y_pred)\n",
    "print(f\"Mean Squared Error: {mse}\")\n",
    "print(f\"R2 Score: {r2}\")\n",
    "\n",
    "# Visualitza la comparació entre les prediccions i les dades reals\n",
    "plt.scatter(y_test, y_pred)\n",
    "plt.xlabel(\"Valors Reals\")\n",
    "plt.ylabel(\"Prediccions\")\n",
    "plt.title(\"Comparació entre Valors Reals i Prediccions\")\n",
    "plt.show()"
   ]
  }
 ],
 "metadata": {
  "kernelspec": {
   "display_name": "Python 3 (ipykernel)",
   "language": "python",
   "name": "python3"
  },
  "language_info": {
   "codemirror_mode": {
    "name": "ipython",
    "version": 3
   },
   "file_extension": ".py",
   "mimetype": "text/x-python",
   "name": "python",
   "nbconvert_exporter": "python",
   "pygments_lexer": "ipython3",
   "version": "3.11.5"
  }
 },
 "nbformat": 4,
 "nbformat_minor": 5
}
